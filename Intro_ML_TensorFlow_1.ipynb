{
  "nbformat": 4,
  "nbformat_minor": 0,
  "metadata": {
    "colab": {
      "name": "Intro_ML_TensorFlow_1.ipynb",
      "provenance": [],
      "authorship_tag": "ABX9TyNtOrQn035yml0oy5tbzqd+",
      "include_colab_link": true
    },
    "kernelspec": {
      "name": "python3",
      "display_name": "Python 3"
    }
  },
  "cells": [
    {
      "cell_type": "markdown",
      "metadata": {
        "id": "view-in-github",
        "colab_type": "text"
      },
      "source": [
        "<a href=\"https://colab.research.google.com/github/juanamtz1982/Intro_ML_TF/blob/master/Intro_ML_TensorFlow_1.ipynb\" target=\"_parent\"><img src=\"https://colab.research.google.com/assets/colab-badge.svg\" alt=\"Open In Colab\"/></a>"
      ]
    },
    {
      "cell_type": "code",
      "metadata": {
        "id": "2qjPMROXVK0C",
        "colab_type": "code",
        "colab": {}
      },
      "source": [
        ""
      ],
      "execution_count": 0,
      "outputs": []
    },
    {
      "cell_type": "markdown",
      "metadata": {
        "id": "9b5pEByqNkA3",
        "colab_type": "text"
      },
      "source": [
        "![texto alternativo](https://raw.githubusercontent.com/juanamtz1982/Intro_ML_TF/master/Intro_ML_TF/Diapositiva1.PNG)\n",
        "\n"
      ]
    },
    {
      "cell_type": "markdown",
      "metadata": {
        "id": "I5WWf0AFRt64",
        "colab_type": "text"
      },
      "source": [
        "![texto alternativo](https://raw.githubusercontent.com/juanamtz1982/Intro_ML_TF/master/Intro_ML_TF/Diapositiva2.PNG)"
      ]
    },
    {
      "cell_type": "markdown",
      "metadata": {
        "id": "JGCNHI6lVVNl",
        "colab_type": "text"
      },
      "source": [
        "![texto alternativo](https://raw.githubusercontent.com/juanamtz1982/Intro_ML_TF/master/Intro_ML_TF/Diapositiva3.PNG)"
      ]
    },
    {
      "cell_type": "markdown",
      "metadata": {
        "id": "42TzXcXtWeF2",
        "colab_type": "text"
      },
      "source": [
        "![texto alternativo](https://raw.githubusercontent.com/juanamtz1982/Intro_ML_TF/master/Intro_ML_TF/Diapositiva4.PNG)"
      ]
    },
    {
      "cell_type": "markdown",
      "metadata": {
        "id": "ohc7I9ogXJd6",
        "colab_type": "text"
      },
      "source": [
        "![texto alternativo](https://raw.githubusercontent.com/juanamtz1982/Intro_ML_TF/master/Intro_ML_TF/Diapositiva5.PNG)"
      ]
    },
    {
      "cell_type": "code",
      "metadata": {
        "colab_type": "code",
        "id": "0trJmd6DjqBZ",
        "outputId": "84456284-ea82-46d7-df7c-d43f61014cda",
        "colab": {
          "base_uri": "https://localhost:8080/",
          "height": 34
        }
      },
      "source": [
        "from __future__ import absolute_import, division, print_function, unicode_literals\n",
        "\n",
        "# Installa TensorFlow\n",
        "try:\n",
        "  # %tensorflow_version solo existe in Colab.\n",
        "  %tensorflow_version 2.x\n",
        "except Exception:\n",
        "  pass\n",
        "\n",
        "import tensorflow as tf\n"
      ],
      "execution_count": 0,
      "outputs": [
        {
          "output_type": "stream",
          "text": [
            "TensorFlow 2.x selected.\n"
          ],
          "name": "stdout"
        }
      ]
    },
    {
      "cell_type": "markdown",
      "metadata": {
        "id": "NiPTh2pjY26u",
        "colab_type": "text"
      },
      "source": [
        "![texto alternativo](https://raw.githubusercontent.com/juanamtz1982/Intro_ML_TF/master/Intro_ML_TF/Diapositiva6.PNG)"
      ]
    },
    {
      "cell_type": "markdown",
      "metadata": {
        "id": "v1Yc3Z6kylxt",
        "colab_type": "text"
      },
      "source": [
        "## Dataflow Graphs \n",
        "### Grafo que representa las dependencias de datos entre un conjunto de operaciones. En programación, proporciona una visión de las relaciones entre datos y funciones."
      ]
    },
    {
      "cell_type": "code",
      "metadata": {
        "id": "6ScKS-Tgm7fC",
        "colab_type": "code",
        "outputId": "32d1b77c-3d8e-458a-ae57-888756cef42e",
        "colab": {
          "base_uri": "https://localhost:8080/",
          "height": 34
        }
      },
      "source": [
        "grafo = tf.add([1,2,3],[2,4,4])\n",
        "print(grafo)"
      ],
      "execution_count": 0,
      "outputs": [
        {
          "output_type": "stream",
          "text": [
            "tf.Tensor([3 6 7], shape=(3,), dtype=int32)\n"
          ],
          "name": "stdout"
        }
      ]
    },
    {
      "cell_type": "code",
      "metadata": {
        "id": "0Sha_etpbdB4",
        "colab_type": "code",
        "outputId": "d3252c01-d0d0-4e4f-9d34-bb0c1ca71db0",
        "colab": {
          "base_uri": "https://localhost:8080/",
          "height": 69
        }
      },
      "source": [
        "g = tf.multiply(2,2)\n",
        "a =tf.add(3,4)\n",
        "multiple = tf.add([1,2,3],1)\n",
        "print(g)\n",
        "print(a)\n",
        "print(multiple)"
      ],
      "execution_count": 0,
      "outputs": [
        {
          "output_type": "stream",
          "text": [
            "tf.Tensor(4, shape=(), dtype=int32)\n",
            "tf.Tensor(7, shape=(), dtype=int32)\n",
            "tf.Tensor([2 3 4], shape=(3,), dtype=int32)\n"
          ],
          "name": "stdout"
        }
      ]
    },
    {
      "cell_type": "code",
      "metadata": {
        "id": "mQ-xmUBvcDM6",
        "colab_type": "code",
        "outputId": "cc490e5f-d363-446f-b756-42d2c696abc5",
        "colab": {
          "base_uri": "https://localhost:8080/",
          "height": 50
        }
      },
      "source": [
        "with tf.compat.v1.Session() as sess:\n",
        "  c = tf.constant([[1.0, 2.0], [3.0, 4.0]])\n",
        "  d = tf.constant([[1.0, 1.0], [0.0, 1.0]])\n",
        "  e = tf.add(c, d)\n",
        "  result = sess.run(e)\n",
        "  print(result)\n"
      ],
      "execution_count": 0,
      "outputs": [
        {
          "output_type": "stream",
          "text": [
            "[[2. 3.]\n",
            " [3. 5.]]\n"
          ],
          "name": "stdout"
        }
      ]
    },
    {
      "cell_type": "code",
      "metadata": {
        "id": "6gYXSyWNix0f",
        "colab_type": "code",
        "outputId": "ac9c3c8c-7500-44d6-b5c1-54fafe516d9c",
        "colab": {
          "base_uri": "https://localhost:8080/",
          "height": 67
        }
      },
      "source": [
        "c = tf.constant([[1.0, 2.0], [3.0, 4.0]])\n",
        "d = tf.constant([[1.0, 1.0], [0.0, 1.0]])\n",
        "e = tf.add(c, d)\n",
        "\n",
        "print(e)"
      ],
      "execution_count": 0,
      "outputs": [
        {
          "output_type": "stream",
          "text": [
            "tf.Tensor(\n",
            "[[2. 3.]\n",
            " [3. 5.]], shape=(2, 2), dtype=float32)\n"
          ],
          "name": "stdout"
        }
      ]
    },
    {
      "cell_type": "markdown",
      "metadata": {
        "id": "NmZXIj250hYc",
        "colab_type": "text"
      },
      "source": [
        "![texto alternativo](https://raw.githubusercontent.com/juanamtz1982/Intro_ML_TF/master/Intro_ML_TF/Diapositiva7.PNG)"
      ]
    },
    {
      "cell_type": "code",
      "metadata": {
        "id": "NyND8gp0r10d",
        "colab_type": "code",
        "outputId": "cbc0615a-f9b9-4bc8-c338-c77e07ca9226",
        "colab": {
          "base_uri": "https://localhost:8080/",
          "height": 34
        }
      },
      "source": [
        "x = 2\n",
        "y = 3\n",
        "\n",
        "op1 = tf.add(x, y)         \n",
        "op2 = tf.multiply(x, y)   \n",
        "op3 = tf.pow(op2, op1)\n",
        "useless = tf.multiply(x, op1)\n",
        "\n",
        "print(op3)"
      ],
      "execution_count": 0,
      "outputs": [
        {
          "output_type": "stream",
          "text": [
            "tf.Tensor(10, shape=(), dtype=int32)\n"
          ],
          "name": "stdout"
        }
      ]
    },
    {
      "cell_type": "markdown",
      "metadata": {
        "id": "tk7UfMZ11UPB",
        "colab_type": "text"
      },
      "source": [
        "![texto alternativo](https://raw.githubusercontent.com/juanamtz1982/Intro_ML_TF/master/Intro_ML_TF/Diapositiva8.PNG)"
      ]
    },
    {
      "cell_type": "code",
      "metadata": {
        "id": "2mHkrhxKxNNF",
        "colab_type": "code",
        "outputId": "23128e5d-81f8-461e-882c-a985d403e7d3",
        "colab": {
          "base_uri": "https://localhost:8080/",
          "height": 69
        }
      },
      "source": [
        "import numpy as np\n",
        "\n",
        "many_ones = np.ones([3, 3])\n",
        "\n",
        "many_ones"
      ],
      "execution_count": 0,
      "outputs": [
        {
          "output_type": "execute_result",
          "data": {
            "text/plain": [
              "array([[1., 1., 1.],\n",
              "       [1., 1., 1.],\n",
              "       [1., 1., 1.]])"
            ]
          },
          "metadata": {
            "tags": []
          },
          "execution_count": 8
        }
      ]
    },
    {
      "cell_type": "code",
      "metadata": {
        "id": "lVBOCvV-xPUq",
        "colab_type": "code",
        "outputId": "ec8a7697-9fd9-417d-8838-7e5fdd95cc58",
        "colab": {
          "base_uri": "https://localhost:8080/",
          "height": 86
        }
      },
      "source": [
        "tensor = tf.add(many_ones, 42)\n",
        "print(tensor)"
      ],
      "execution_count": 0,
      "outputs": [
        {
          "output_type": "stream",
          "text": [
            "tf.Tensor(\n",
            "[[43. 43. 43.]\n",
            " [43. 43. 43.]\n",
            " [43. 43. 43.]], shape=(3, 3), dtype=float64)\n"
          ],
          "name": "stdout"
        }
      ]
    },
    {
      "cell_type": "code",
      "metadata": {
        "id": "g17yd1SJxdk2",
        "colab_type": "code",
        "outputId": "c3feeb18-4e1a-4808-b88c-2be8d74a2ef9",
        "colab": {
          "base_uri": "https://localhost:8080/",
          "height": 67
        }
      },
      "source": [
        "print(np.add(tensor, 1))"
      ],
      "execution_count": 0,
      "outputs": [
        {
          "output_type": "stream",
          "text": [
            "[[43. 43. 43.]\n",
            " [43. 43. 43.]\n",
            " [43. 43. 43.]]\n"
          ],
          "name": "stdout"
        }
      ]
    },
    {
      "cell_type": "markdown",
      "metadata": {
        "id": "GvhV9yRu262Y",
        "colab_type": "text"
      },
      "source": [
        "![texto alternativo](https://raw.githubusercontent.com/juanamtz1982/Intro_ML_TF/master/Intro_ML_TF/Diapositiva9.PNG)"
      ]
    },
    {
      "cell_type": "markdown",
      "metadata": {
        "id": "jRFZc78t43rk",
        "colab_type": "text"
      },
      "source": [
        "![texto alternativo](https://raw.githubusercontent.com/juanamtz1982/Intro_ML_TF/master/Intro_ML_TF/Diapositiva10.PNG)"
      ]
    },
    {
      "cell_type": "code",
      "metadata": {
        "id": "GxGT7j178kMj",
        "colab_type": "code",
        "outputId": "c95354d2-e414-4bab-af96-04645f1056fb",
        "colab": {
          "base_uri": "https://localhost:8080/",
          "height": 269
        }
      },
      "source": [
        "import matplotlib.image as img\n",
        "import matplotlib.pyplot as plot\n",
        "\n",
        "logopath = \"https://github.com/juanamtz1982/Intro_ML_TF/blob/master/Intro_ML_TF/women_ind_data.png?raw=true\" \n",
        "milogo = img.imread(logopath)\n",
        "plot.imshow(milogo)\n",
        "plot.show()"
      ],
      "execution_count": 0,
      "outputs": [
        {
          "output_type": "display_data",
          "data": {
            "image/png": "[encoded data removed]",
            "text/plain": [
              "<Figure size 432x288 with 1 Axes>"
            ]
          },
          "metadata": {
            "tags": []
          }
        }
      ]
    },
    {
      "cell_type": "code",
      "metadata": {
        "id": "XS3iRmDU-A_j",
        "colab_type": "code",
        "outputId": "004a6d6e-bad8-408a-d1df-9742c198b3f3",
        "colab": {
          "base_uri": "https://localhost:8080/",
          "height": 135
        }
      },
      "source": [
        "cropped = tf.slice(milogo,[10,0,0],[160,-1,-1])\n",
        "plot.imshow(cropped)\n",
        "plot.show()\n"
      ],
      "execution_count": 0,
      "outputs": [
        {
          "output_type": "display_data",
          "data": {
            "image/png": "[encoded data removed]",
            "text/plain": [
              "<Figure size 432x288 with 1 Axes>"
            ]
          },
          "metadata": {
            "tags": []
          }
        }
      ]
    },
    {
      "cell_type": "code",
      "metadata": {
        "id": "g4vQmYAK-A2X",
        "colab_type": "code",
        "colab": {}
      },
      "source": [
        "image = tf.Variable(milogo,name='image')\n",
        "trs = tf.transpose(image, perm=None)\n",
        "#plot.imshow(trs)\n",
        "plot.show()\n",
        "print(trs)"
      ],
      "execution_count": 0,
      "outputs": []
    },
    {
      "cell_type": "markdown",
      "metadata": {
        "id": "obGJWEEBKWes",
        "colab_type": "text"
      },
      "source": [
        "## EJEMPLO RAPIDO"
      ]
    },
    {
      "cell_type": "code",
      "metadata": {
        "colab_type": "code",
        "id": "7FP5258xjs-v",
        "outputId": "b29beb10-183d-43a4-ac1a-cedb0edfa331",
        "colab": {
          "base_uri": "https://localhost:8080/",
          "height": 52
        }
      },
      "source": [
        "mnist = tf.keras.datasets.mnist\n",
        "\n",
        "(x_train, y_train), (x_test, y_test) = mnist.load_data()\n",
        "x_train, x_test = x_train / 255.0, x_test / 255.0"
      ],
      "execution_count": 0,
      "outputs": [
        {
          "output_type": "stream",
          "text": [
            "Downloading data from https://storage.googleapis.com/tensorflow/tf-keras-datasets/mnist.npz\n",
            "11493376/11490434 [==============================] - 0s 0us/step\n"
          ],
          "name": "stdout"
        }
      ]
    },
    {
      "cell_type": "code",
      "metadata": {
        "id": "B7jdnObuYiiS",
        "colab_type": "code",
        "colab": {}
      },
      "source": [
        "model = tf.keras.models.Sequential([\n",
        "  tf.keras.layers.Flatten(input_shape=(28, 28)),\n",
        "  tf.keras.layers.Dense(128, activation='relu'),\n",
        "  tf.keras.layers.Dropout(0.2),\n",
        "  tf.keras.layers.Dense(10, activation='softmax')\n",
        "])\n",
        "\n",
        "model.compile(optimizer='adam',\n",
        "              loss='sparse_categorical_crossentropy',\n",
        "              metrics=['accuracy'])"
      ],
      "execution_count": 0,
      "outputs": []
    },
    {
      "cell_type": "code",
      "metadata": {
        "id": "D99BchPBYuxR",
        "colab_type": "code",
        "outputId": "910979de-8e07-451e-eb27-ba25fa3715fb",
        "colab": {
          "base_uri": "https://localhost:8080/",
          "height": 415
        }
      },
      "source": [
        "model.fit(x_train, y_train, epochs=10)\n",
        "\n",
        "model.evaluate(x_test,  y_test, verbose=2)"
      ],
      "execution_count": 0,
      "outputs": [
        {
          "output_type": "stream",
          "text": [
            "Train on 60000 samples\n",
            "Epoch 1/10\n",
            "60000/60000 [==============================] - 5s 79us/sample - loss: 0.0641 - accuracy: 0.9792\n",
            "Epoch 2/10\n",
            "60000/60000 [==============================] - 5s 81us/sample - loss: 0.0588 - accuracy: 0.9812\n",
            "Epoch 3/10\n",
            "60000/60000 [==============================] - 5s 79us/sample - loss: 0.0529 - accuracy: 0.9827\n",
            "Epoch 4/10\n",
            "60000/60000 [==============================] - 5s 80us/sample - loss: 0.0479 - accuracy: 0.9845\n",
            "Epoch 5/10\n",
            "60000/60000 [==============================] - 5s 78us/sample - loss: 0.0442 - accuracy: 0.9852\n",
            "Epoch 6/10\n",
            "60000/60000 [==============================] - 5s 80us/sample - loss: 0.0411 - accuracy: 0.9865\n",
            "Epoch 7/10\n",
            "60000/60000 [==============================] - 5s 80us/sample - loss: 0.0377 - accuracy: 0.9871\n",
            "Epoch 8/10\n",
            "60000/60000 [==============================] - 5s 80us/sample - loss: 0.0358 - accuracy: 0.9881\n",
            "Epoch 9/10\n",
            "60000/60000 [==============================] - 5s 81us/sample - loss: 0.0343 - accuracy: 0.9887\n",
            "Epoch 10/10\n",
            "60000/60000 [==============================] - 5s 81us/sample - loss: 0.0320 - accuracy: 0.9891\n",
            "10000/10000 - 0s - loss: 0.0747 - accuracy: 0.9818\n"
          ],
          "name": "stdout"
        },
        {
          "output_type": "execute_result",
          "data": {
            "text/plain": [
              "[0.07472938795688679, 0.9818]"
            ]
          },
          "metadata": {
            "tags": []
          },
          "execution_count": 26
        }
      ]
    }
  ]
}